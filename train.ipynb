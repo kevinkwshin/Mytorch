{
 "cells": [
  {
   "cell_type": "markdown",
   "id": "195d0de8-6d9d-4352-9309-cd81a38e6d99",
   "metadata": {},
   "source": [
    "# Settings"
   ]
  },
  {
   "cell_type": "code",
   "execution_count": null,
   "id": "a0b61963-ef1f-4043-9e9a-c16a390beb83",
   "metadata": {},
   "outputs": [],
   "source": [
    "# gpu status\n",
    "!nvidia-smi"
   ]
  },
  {
   "cell_type": "code",
   "execution_count": null,
   "id": "51a4e538-a2df-4b6d-832e-4c06afe28bc2",
   "metadata": {},
   "outputs": [],
   "source": [
    "# install packages\n",
    "!pip install -r requirements.txt --user --quiet -U"
   ]
  },
  {
   "cell_type": "code",
   "execution_count": null,
   "id": "a7b949f8-c36f-4227-95ca-7d0d556d14db",
   "metadata": {},
   "outputs": [],
   "source": [
    "# log into weight and bias, if error occurs, please reset your jupyter kernal\n",
    "import wandb\n",
    "wandb.login()"
   ]
  },
  {
   "cell_type": "markdown",
   "id": "723113fa-d7dc-4311-b163-a01aff09f868",
   "metadata": {},
   "source": [
    "# Train"
   ]
  },
  {
   "cell_type": "code",
   "execution_count": null,
   "id": "2c00b98c-3c67-4f5e-988a-a2066347b8a5",
   "metadata": {},
   "outputs": [],
   "source": [
    "# run training\n",
    "!CUDA_VISIBLE_DEVICES=1 python train.py --project Retina \\\n",
    "                                        --data_dir ../Retina/dataset/DRIVE \\\n",
    "                                        --data_module dataset \\\n",
    "                                        --net waveletunet_r2att \\\n",
    "                                        --net_inputch 3 \\\n",
    "                                        --net_outputch 3 \\\n",
    "                                        --net_norm group \\\n",
    "                                        --lossfn BoundaryCELoss \\\n",
    "                                        --precision 16 \\\n",
    "                                        --data_patchsize 128_128 \\\n",
    "                                        --batch_size 24"
   ]
  },
  {
   "cell_type": "markdown",
   "id": "5aaed9b9-5b7d-41e1-aadf-7501ca116224",
   "metadata": {},
   "source": [
    "# Sweeps"
   ]
  },
  {
   "cell_type": "code",
   "execution_count": 5,
   "id": "1b0c9ed8-656e-445b-95d0-c0a558545b08",
   "metadata": {},
   "outputs": [
    {
     "name": "stdout",
     "output_type": "stream",
     "text": [
      "ERROR! Session/line number was not unique in database. History logging moved to new session 202\n",
      "\u001b[34m\u001b[1mwandb\u001b[0m: Creating sweep from: sweep.yaml\n",
      "\u001b[34m\u001b[1mwandb\u001b[0m: Created sweep with ID: \u001b[33mjkih5koi\u001b[0m\n",
      "\u001b[34m\u001b[1mwandb\u001b[0m: View sweep at: \u001b[34m\u001b[4mhttps://wandb.ai/keewonshin/workspace-segment_/sweeps/jkih5koi\u001b[0m\n",
      "\u001b[34m\u001b[1mwandb\u001b[0m: Run sweep agent with: \u001b[33mwandb agent keewonshin/workspace-segment_/jkih5koi\u001b[0m\n"
     ]
    }
   ],
   "source": [
    "# generate sweep using sweep.yaml\n",
    "!python -m wandb sweep sweep.yaml"
   ]
  },
  {
   "cell_type": "code",
   "execution_count": 9,
   "id": "9b875a2a-113b-43d9-9abf-9047cedbc128",
   "metadata": {},
   "outputs": [
    {
     "name": "stdout",
     "output_type": "stream",
     "text": [
      "\u001b[34m\u001b[1mwandb\u001b[0m: Starting wandb agent 🕵️\n",
      "2021-08-04 11:21:19,784 - wandb.wandb_agent - INFO - Running runs: []\n",
      "2021-08-04 11:21:20,160 - wandb.wandb_agent - INFO - Agent received command: run\n",
      "2021-08-04 11:21:20,160 - wandb.wandb_agent - INFO - Agent starting run with config:\n",
      "\tdata_cropsize: None\n",
      "\tdata_dir: /workspace/Retina/dataset/DRIVE\n",
      "\tdata_module: dataset\n",
      "\tdata_padsize: None\n",
      "\tdata_patchsize: 128\n",
      "\tdata_resize: None\n",
      "\texperiment_name: None\n",
      "\tlossfn: CELoss\n",
      "\tnet: unet_eb5\n",
      "\tnet_inputch: 3\n",
      "\tnet_norm: batch\n",
      "\tnet_outputch: 3\n",
      "\tprecision: 32\n",
      "\tproject: Retina\n",
      "2021-08-04 11:21:20,169 - wandb.wandb_agent - INFO - About to run command: /usr/bin/env python train.py --data_cropsize=None --data_dir=/workspace/Retina/dataset/DRIVE --data_module=dataset --data_padsize=None --data_patchsize=128 --data_resize=None --experiment_name=None --lossfn=CELoss --net=unet_eb5 --net_inputch=3 --net_norm=batch --net_outputch=3 --precision=32 --project=Retina\n",
      "  File \"train.py\", line 136\n",
      "    @staticmethod\n",
      "    ^\n",
      "IndentationError: unexpected indent\n",
      "2021-08-04 11:21:25,183 - wandb.wandb_agent - INFO - Running runs: ['wbl02t9k']\n",
      "2021-08-04 11:21:25,184 - wandb.wandb_agent - INFO - Cleaning up finished run: wbl02t9k\n",
      "2021-08-04 11:21:25,566 - wandb.wandb_agent - INFO - Agent received command: run\n",
      "2021-08-04 11:21:25,566 - wandb.wandb_agent - INFO - Agent starting run with config:\n",
      "\tdata_cropsize: None\n",
      "\tdata_dir: /workspace/Retina/dataset/DRIVE\n",
      "\tdata_module: dataset\n",
      "\tdata_padsize: None\n",
      "\tdata_patchsize: 160\n",
      "\tdata_resize: None\n",
      "\texperiment_name: None\n",
      "\tlossfn: CELoss\n",
      "\tnet: waveletunet_att\n",
      "\tnet_inputch: 3\n",
      "\tnet_norm: group\n",
      "\tnet_outputch: 3\n",
      "\tprecision: 16\n",
      "\tproject: Retina\n",
      "2021-08-04 11:21:25,575 - wandb.wandb_agent - INFO - About to run command: /usr/bin/env python train.py --data_cropsize=None --data_dir=/workspace/Retina/dataset/DRIVE --data_module=dataset --data_padsize=None --data_patchsize=160 --data_resize=None --experiment_name=None --lossfn=CELoss --net=waveletunet_att --net_inputch=3 --net_norm=group --net_outputch=3 --precision=16 --project=Retina\n",
      "  File \"train.py\", line 136\n",
      "    @staticmethod\n",
      "    ^\n",
      "IndentationError: unexpected indent\n",
      "2021-08-04 11:21:30,588 - wandb.wandb_agent - INFO - Running runs: ['gadm40ds']\n",
      "2021-08-04 11:21:30,589 - wandb.wandb_agent - INFO - Cleaning up finished run: gadm40ds\n",
      "2021-08-04 11:21:31,039 - wandb.wandb_agent - INFO - Agent received command: run\n",
      "2021-08-04 11:21:31,039 - wandb.wandb_agent - INFO - Agent starting run with config:\n",
      "\tdata_cropsize: None\n",
      "\tdata_dir: /workspace/Retina/dataset/DRIVE\n",
      "\tdata_module: dataset\n",
      "\tdata_padsize: None\n",
      "\tdata_patchsize: 128\n",
      "\tdata_resize: None\n",
      "\texperiment_name: None\n",
      "\tlossfn: BoundaryFocalLoss\n",
      "\tnet: unet_eb5\n",
      "\tnet_inputch: 3\n",
      "\tnet_norm: instance\n",
      "\tnet_outputch: 3\n",
      "\tprecision: 16\n",
      "\tproject: Retina\n",
      "2021-08-04 11:21:31,048 - wandb.wandb_agent - INFO - About to run command: /usr/bin/env python train.py --data_cropsize=None --data_dir=/workspace/Retina/dataset/DRIVE --data_module=dataset --data_padsize=None --data_patchsize=128 --data_resize=None --experiment_name=None --lossfn=BoundaryFocalLoss --net=unet_eb5 --net_inputch=3 --net_norm=instance --net_outputch=3 --precision=16 --project=Retina\n",
      "  File \"train.py\", line 136\n",
      "    @staticmethod\n",
      "    ^\n",
      "IndentationError: unexpected indent\n",
      "2021-08-04 11:21:36,063 - wandb.wandb_agent - INFO - Running runs: ['1lfoto9o']\n",
      "2021-08-04 11:21:36,064 - wandb.wandb_agent - ERROR - Detected 3 failed runs in the first 60 seconds, shutting down.\n",
      "2021-08-04 11:21:36,064 - wandb.wandb_agent - INFO - To disable this check set WANDB_AGENT_DISABLE_FLAPPING=true\n",
      "\u001b[34m\u001b[1mwandb\u001b[0m: Terminating and syncing runs. Press ctrl-c to kill.\n"
     ]
    }
   ],
   "source": [
    "# Run sweeps\n",
    "# !CUDA_VISIBLE_DEVICES=0 python -m wandb agent [your_sweep_address]\n",
    "!CUDA_VISIBLE_DEVICES=0 python -m wandb agent keewonshin/workspace-segment_/jkih5koi"
   ]
  },
  {
   "cell_type": "code",
   "execution_count": null,
   "id": "b172faab-232d-42f7-bb45-d0644f1f90e5",
   "metadata": {},
   "outputs": [],
   "source": []
  }
 ],
 "metadata": {
  "kernelspec": {
   "display_name": "Python 3",
   "language": "python",
   "name": "python3"
  },
  "language_info": {
   "codemirror_mode": {
    "name": "ipython",
    "version": 3
   },
   "file_extension": ".py",
   "mimetype": "text/x-python",
   "name": "python",
   "nbconvert_exporter": "python",
   "pygments_lexer": "ipython3",
   "version": "3.8.8"
  }
 },
 "nbformat": 4,
 "nbformat_minor": 5
}
