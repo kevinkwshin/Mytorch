{
 "cells": [
  {
   "cell_type": "code",
   "execution_count": 25,
   "metadata": {},
   "outputs": [
    {
     "name": "stdout",
     "output_type": "stream",
     "text": [
      "199 199\n"
     ]
    }
   ],
   "source": [
    "import numpy as np\n",
    "import glob\n",
    "import sklearn\n",
    "import nibabel as nib\n",
    "from sklearn.metrics import *\n",
    "\n",
    "list_gt = sorted(glob.glob('Train/*seg*.nii.gz'))\n",
    "list_pred = sorted(glob.glob('Output/*seg*.nii.gz'))\n",
    "print(len(list_gt),len(list_pred))"
   ]
  },
  {
   "cell_type": "code",
   "execution_count": 19,
   "metadata": {},
   "outputs": [
    {
     "data": {
      "text/plain": [
       "((512, 512, 291), (512, 512, 291))"
      ]
     },
     "execution_count": 19,
     "metadata": {},
     "output_type": "execute_result"
    }
   ],
   "source": [
    "y.shape,y_hat.shape"
   ]
  },
  {
   "cell_type": "code",
   "execution_count": 20,
   "metadata": {},
   "outputs": [
    {
     "data": {
      "text/plain": [
       "<matplotlib.image.AxesImage at 0x7f1415843198>"
      ]
     },
     "execution_count": 20,
     "metadata": {},
     "output_type": "execute_result"
    },
    {
     "data": {
      "image/png": "[encoded data removed]",
      "text/plain": [
       "<Figure size 432x288 with 1 Axes>"
      ]
     },
     "metadata": {
      "needs_background": "light"
     },
     "output_type": "display_data"
    }
   ],
   "source": [
    "import matplotlib.pyplot as plt"
   ]
  },
  {
   "cell_type": "code",
   "execution_count": null,
   "metadata": {},
   "outputs": [
    {
     "name": "stdout",
     "output_type": "stream",
     "text": [
      "idx 0 Train/volume-covid19-A-0003_seg.nii.gz Output/volume-covid19-A-0003_seg.nii.gz \n",
      "f1 0.4576928808771537 iou 0.2967585866668738\n",
      "idx 1 Train/volume-covid19-A-0011_seg.nii.gz Output/volume-covid19-A-0011_seg.nii.gz \n",
      "f1 0.4399593209731674 iou 0.2820178517701334\n",
      "idx 2 Train/volume-covid19-A-0013_seg.nii.gz Output/volume-covid19-A-0013_seg.nii.gz \n"
     ]
    }
   ],
   "source": [
    "for idx in range(len(list_gt)):\n",
    "    y = nib.load(list_gt[idx])\n",
    "    y_hat = nib.load(list_pred[idx])\n",
    "    y = y.get_fdata()\n",
    "    y_hat = y_hat.get_fdata()\n",
    "    print(\"idx {} {} {} \".format(idx,list_gt[idx],list_pred[idx]))\n",
    "    print(\"f1 {} iou {}\".format(f1_score(y.flatten(),y_hat.flatten()),jaccard_score(y.flatten(),y_hat.flatten())))"
   ]
  },
  {
   "cell_type": "code",
   "execution_count": null,
   "metadata": {},
   "outputs": [],
   "source": []
  }
 ],
 "metadata": {
  "kernelspec": {
   "display_name": "Python 3",
   "language": "python",
   "name": "python3"
  },
  "language_info": {
   "codemirror_mode": {
    "name": "ipython",
    "version": 3
   },
   "file_extension": ".py",
   "mimetype": "text/x-python",
   "name": "python",
   "nbconvert_exporter": "python",
   "pygments_lexer": "ipython3",
   "version": "3.6.8"
  }
 },
 "nbformat": 4,
 "nbformat_minor": 4
}
